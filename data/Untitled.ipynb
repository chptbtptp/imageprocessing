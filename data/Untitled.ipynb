{
 "cells": [
  {
   "cell_type": "code",
   "execution_count": 1,
   "metadata": {},
   "outputs": [
    {
     "data": {
      "text/plain": [
       "\"\\n# img_root = '/userhome/data/31-55图片/肺动脉瓣反流CW'\\nimg_root = '/userhome/data/31-55图片/三尖瓣反流CW/'\\nimg_dir = os.listdir(img_root)\\nfor d in img_dir:\\n    img_path = os.path.join(img_root,d)\\n    img_path1 = os.listdir(img_path)\\n    for d1 in img_path1:\\n        imgs = os.listdir(os.path.join(img_path,d1))\\n        for img in imgs:\\n            src = os.path.join(img_path,d1,img)\\n            dst = os.path.join('heartTU_images',img)\\n            if os.path.isfile(src):\\n                if not os.path.isfile(dst):\\n                    shutil.copyfile(src, dst)\\n\""
      ]
     },
     "execution_count": 1,
     "metadata": {},
     "output_type": "execute_result"
    }
   ],
   "source": [
    "#将所有的图像复制到 heartTU_images_san/ 文件夹下\n",
    "import os\n",
    "import shutil\n",
    "'''\n",
    "# img_root = '/userhome/data/31-55图片/肺动脉瓣反流CW'\n",
    "img_root = '/userhome/data/31-55图片/三尖瓣反流CW/'\n",
    "img_dir = os.listdir(img_root)\n",
    "for d in img_dir:\n",
    "    img_path = os.path.join(img_root,d)\n",
    "    img_path1 = os.listdir(img_path)\n",
    "    for d1 in img_path1:\n",
    "        imgs = os.listdir(os.path.join(img_path,d1))\n",
    "        for img in imgs:\n",
    "            src = os.path.join(img_path,d1,img)\n",
    "            dst = os.path.join('heartTU_images',img)\n",
    "            if os.path.isfile(src):\n",
    "                if not os.path.isfile(dst):\n",
    "                    shutil.copyfile(src, dst)\n",
    "'''"
   ]
  },
  {
   "cell_type": "code",
   "execution_count": 2,
   "metadata": {},
   "outputs": [],
   "source": [
    "#将所有的图像随机分为Train,val,test三个数据集并且生成annotation\n",
    "import random\n",
    "import json\n",
    "img_root = 'heartTU_images_fei'\n",
    "imgs = os.listdir(img_root)\n",
    "random.shuffle(imgs)\n",
    "all_len = len(imgs)\n",
    "train_len = all_len*6//10\n",
    "val_len = all_len*8//10\n",
    "train_list = imgs[:train_len]\n",
    "val_list = imgs[train_len:val_len]\n",
    "test_list = imgs[val_len:]\n",
    "all_img_dict = {'train':train_list,'val':val_list, 'test':test_list}\n",
    "with open('heartTU_annotation.json','w') as j:\n",
    "    json.dump(all_img_dict, j)"
   ]
  },
  {
   "cell_type": "code",
   "execution_count": null,
   "metadata": {},
   "outputs": [],
   "source": []
  }
 ],
 "metadata": {
  "kernelspec": {
   "display_name": "Python 3",
   "language": "python",
   "name": "python3"
  },
  "language_info": {
   "codemirror_mode": {
    "name": "ipython",
    "version": 3
   },
   "file_extension": ".py",
   "mimetype": "text/x-python",
   "name": "python",
   "nbconvert_exporter": "python",
   "pygments_lexer": "ipython3",
   "version": "3.7.9"
  }
 },
 "nbformat": 4,
 "nbformat_minor": 4
}
